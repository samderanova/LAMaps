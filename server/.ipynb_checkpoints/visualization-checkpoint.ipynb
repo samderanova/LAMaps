{
 "cells": [
  {
   "cell_type": "code",
   "execution_count": 19,
   "id": "ff637d2a-d35d-4438-b88f-510d0271adcb",
   "metadata": {},
   "outputs": [],
   "source": [
    "import osmnx as ox\n",
    "import folium\n",
    "import numpy as np\n",
    "from pathlib import Path\n",
    "import sys\n",
    "\n",
    "from dotenv import load_dotenv\n",
    "load_dotenv()\n",
    "\n",
    "from src.matrix import fit_to_map, scale_and_place, get_map, get_distance_miles"
   ]
  },
  {
   "cell_type": "code",
   "execution_count": 20,
   "id": "000e31fd-a681-4f33-9502-b82a746db4c0",
   "metadata": {},
   "outputs": [],
   "source": [
    "G = get_map()"
   ]
  },
  {
   "cell_type": "code",
   "execution_count": 21,
   "id": "9d2f58a0-9d58-4a32-a5ab-d72866c804b7",
   "metadata": {},
   "outputs": [],
   "source": [
    "coordinates = np.array([[0, 0], [1, 0], [1, 1], [0, 1]])\n",
    "starting_point = [35.0549, -118.2426]"
   ]
  },
  {
   "cell_type": "code",
   "execution_count": 22,
   "id": "3e0b0660-2525-42d7-bd0c-58ac9bcf977e",
   "metadata": {},
   "outputs": [
    {
     "name": "stdout",
     "output_type": "stream",
     "text": [
      "{'osmid_original': [3858824565, 122888795], 'x': 378894.2089032445, 'y': 3746239.520398696, 'street_count': 0}\n"
     ]
    },
    {
     "ename": "KeyError",
     "evalue": "'lat'",
     "output_type": "error",
     "traceback": [
      "\u001b[0;31m---------------------------------------------------------------------------\u001b[0m",
      "\u001b[0;31mKeyError\u001b[0m                                  Traceback (most recent call last)",
      "Cell \u001b[0;32mIn[22], line 2\u001b[0m\n\u001b[1;32m      1\u001b[0m matrix \u001b[38;5;241m=\u001b[39m scale_and_place(coordinates, starting_point)\n\u001b[0;32m----> 2\u001b[0m result, loss_curve \u001b[38;5;241m=\u001b[39m fit_to_map(matrix)\n\u001b[1;32m      3\u001b[0m \u001b[38;5;28mprint\u001b[39m(result)\n\u001b[1;32m      5\u001b[0m nodes \u001b[38;5;241m=\u001b[39m G\u001b[38;5;241m.\u001b[39mnodes()\n",
      "File \u001b[0;32m~/Desktop/Projects/LAMaps/server/src/matrix.py:66\u001b[0m, in \u001b[0;36mfit_to_map\u001b[0;34m(matrix)\u001b[0m\n\u001b[1;32m     64\u001b[0m total_loss_per_iter \u001b[38;5;241m=\u001b[39m []\n\u001b[1;32m     65\u001b[0m \u001b[38;5;28;01mfor\u001b[39;00m _ \u001b[38;5;129;01min\u001b[39;00m \u001b[38;5;28mrange\u001b[39m(\u001b[38;5;241m40\u001b[39m):\n\u001b[0;32m---> 66\u001b[0m     loss_matrix \u001b[38;5;241m=\u001b[39m get_loss_matrix(matrix)\n\u001b[1;32m     67\u001b[0m     total_loss \u001b[38;5;241m=\u001b[39m get_total_loss(loss_matrix)\n\u001b[1;32m     68\u001b[0m     total_loss_per_iter\u001b[38;5;241m.\u001b[39mappend(total_loss)\n",
      "File \u001b[0;32m~/Desktop/Projects/LAMaps/server/src/matrix.py:45\u001b[0m, in \u001b[0;36mget_loss_matrix\u001b[0;34m(matrix)\u001b[0m\n\u001b[1;32m     43\u001b[0m node \u001b[38;5;241m=\u001b[39m nodes[node_id]\n\u001b[1;32m     44\u001b[0m \u001b[38;5;28mprint\u001b[39m(node)\n\u001b[0;32m---> 45\u001b[0m lat \u001b[38;5;241m=\u001b[39m node[\u001b[38;5;124m\"\u001b[39m\u001b[38;5;124mlat\u001b[39m\u001b[38;5;124m\"\u001b[39m] \u001b[38;5;241m-\u001b[39m matrix[i, \u001b[38;5;241m0\u001b[39m]\n\u001b[1;32m     46\u001b[0m lon \u001b[38;5;241m=\u001b[39m node[\u001b[38;5;124m\"\u001b[39m\u001b[38;5;124mlon\u001b[39m\u001b[38;5;124m\"\u001b[39m] \u001b[38;5;241m-\u001b[39m matrix[i, \u001b[38;5;241m1\u001b[39m]\n\u001b[1;32m     47\u001b[0m loss_matrix\u001b[38;5;241m.\u001b[39mappend(np\u001b[38;5;241m.\u001b[39marray([lat, lon]))\n",
      "\u001b[0;31mKeyError\u001b[0m: 'lat'"
     ]
    }
   ],
   "source": [
    "matrix = scale_and_place(coordinates, starting_point)\n",
    "result, loss_curve = fit_to_map(matrix)\n",
    "print(result)\n",
    "\n",
    "nodes = G.nodes()\n",
    "\n",
    "closest = []\n",
    "for r in result:\n",
    "    node_id = ox.nearest_nodes(G, r[0], r[1])\n",
    "    node = nodes[node_id]\n",
    "    closest.append([node['lat'], node['lon']])\n",
    "\n",
    "print(closest)"
   ]
  },
  {
   "cell_type": "code",
   "execution_count": null,
   "id": "6252145e-8b4b-4a8a-9997-6d4ac60993af",
   "metadata": {},
   "outputs": [],
   "source": [
    "m = folium.Map(starting_point, zoom_start=12)\n",
    "\n",
    "for r in result:\n",
    "    folium.Marker(\n",
    "        location=r,\n",
    "        tooltip=\"pred\",\n",
    "        popup=\"pred\",\n",
    "        icon=folium.Icon(icon=\"cloud\"),\n",
    "    ).add_to(m)\n",
    "\n",
    "for c in closest:\n",
    "    folium.Marker(\n",
    "        location=c,\n",
    "        tooltip=\"acc\",\n",
    "        popup=\"acc\",\n",
    "        icon=folium.Icon(icon=\"thumb\"),\n",
    "    ).add_to(m)\n",
    "\n",
    "m"
   ]
  },
  {
   "cell_type": "code",
   "execution_count": null,
   "id": "0cbf8df9-a8b6-459e-9d30-744e7b68253a",
   "metadata": {},
   "outputs": [],
   "source": []
  },
  {
   "cell_type": "code",
   "execution_count": null,
   "id": "c753172d-e6b8-48ce-871d-2d3f0b4fc445",
   "metadata": {},
   "outputs": [],
   "source": []
  }
 ],
 "metadata": {
  "kernelspec": {
   "display_name": "Python 3 (ipykernel)",
   "language": "python",
   "name": "python3"
  },
  "language_info": {
   "codemirror_mode": {
    "name": "ipython",
    "version": 3
   },
   "file_extension": ".py",
   "mimetype": "text/x-python",
   "name": "python",
   "nbconvert_exporter": "python",
   "pygments_lexer": "ipython3",
   "version": "3.12.3"
  }
 },
 "nbformat": 4,
 "nbformat_minor": 5
}
