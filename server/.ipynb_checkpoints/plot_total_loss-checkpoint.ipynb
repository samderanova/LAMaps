{
 "cells": [
  {
   "cell_type": "code",
   "execution_count": 5,
   "id": "b1f41bdd-1c93-482f-b7db-3d43f303b247",
   "metadata": {},
   "outputs": [],
   "source": [
    "import matplotlib.pyplot as plt\n",
    "import numpy as np\n",
    "\n",
    "from dotenv import load_dotenv\n",
    "load_dotenv()\n",
    "\n",
    "from src.matrix import fit_to_map, scale_and_place"
   ]
  },
  {
   "cell_type": "code",
   "execution_count": 6,
   "id": "59ab3316-6e5b-4e1f-bbc5-a7e0eb9d9de0",
   "metadata": {},
   "outputs": [],
   "source": [
    "coordinates = np.array([[1, 1], [2, 2], [3, 3], [4, 4]]) \n",
    "starting_point =  [34.0549, -118.2426]"
   ]
  },
  {
   "cell_type": "code",
   "execution_count": 7,
   "id": "16e4f8de-5355-4679-87c7-ffed091abaf1",
   "metadata": {},
   "outputs": [
    {
     "name": "stdout",
     "output_type": "stream",
     "text": [
      "[[  34.05852319 -118.23802125]\n",
      " [  34.06214638 -118.23344249]\n",
      " [  34.06576957 -118.22886374]\n",
      " [  34.06939275 -118.22428498]]\n",
      "[[  34.05852319 -118.23802125]\n",
      " [  34.06214638 -118.23344249]\n",
      " [  34.06576957 -118.22886374]\n",
      " [  34.06939275 -118.22428498]]\n"
     ]
    }
   ],
   "source": [
    "matrix = scale_and_place(coordinates, starting_point)\n",
    "# matrix, loss_curve = fit_to_map(matrix)"
   ]
  }
 ],
 "metadata": {
  "kernelspec": {
   "display_name": "Python 3 (ipykernel)",
   "language": "python",
   "name": "python3"
  },
  "language_info": {
   "codemirror_mode": {
    "name": "ipython",
    "version": 3
   },
   "file_extension": ".py",
   "mimetype": "text/x-python",
   "name": "python",
   "nbconvert_exporter": "python",
   "pygments_lexer": "ipython3",
   "version": "3.12.3"
  }
 },
 "nbformat": 4,
 "nbformat_minor": 5
}
